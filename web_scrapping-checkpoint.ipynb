{
 "cells": [
  {
   "cell_type": "code",
   "execution_count": null,
   "id": "4080873a",
   "metadata": {},
   "outputs": [],
   "source": [
    "# Import libraries\n",
    "import pandas as pd\n",
    "import csv\n",
    "import requests\n",
    "from bs4 import BeautifulSoup"
   ]
  },
  {
   "cell_type": "code",
   "execution_count": null,
   "id": "212b2059",
   "metadata": {},
   "outputs": [],
   "source": [
    "pages=[]\n",
    "tup = []\n",
    "\n",
    "for i in range(1,5):\n",
    "    url=\"https://web.archive.org/web/20121007172955/https://www.nga.gov/collection/anZ\"+ str(i) +'.htm'\n",
    "    pages.append(url)\n",
    "for items in pages:\n",
    "    page = requests.get(items)\n",
    "    soup = BeautifulSoup(page.text, 'html.parser')\n",
    "    last_links = soup.find(class_=\"AlphaNav\")\n",
    "    last_links.decompose()\n",
    "    \n",
    "    namelist=soup.find(class_=\"BodyText\")\n",
    "    namelist_items=namelist.find_all(valign = 'top')\n",
    "    \n",
    "    for i in namelist_items:\n",
    "        name = i.find('a').text.replace(\",\", \" \")\n",
    "        links = 'https://web.archive.org'+ str(i.find('a').get('href'))\n",
    "        nationality= i.find('td').find_next_sibling('td').text.split(\",\")[0]\n",
    "        age =i.find('td').find_next_sibling('td').text.split(\",\")[-1]\n",
    "        tup.append((name,nationality,age,links))\n",
    "        \n",
    "df= pd.DataFrame(tup,columns = ['Artist_name','Nationality','Age Info','Bio Link'])\n",
    "df"
   ]
  },
  {
   "cell_type": "code",
   "execution_count": null,
   "id": "64744be6",
   "metadata": {},
   "outputs": [],
   "source": []
  },
  {
   "cell_type": "code",
   "execution_count": null,
   "id": "6236c5dc",
   "metadata": {},
   "outputs": [],
   "source": []
  },
  {
   "cell_type": "code",
   "execution_count": null,
   "id": "ef85a477",
   "metadata": {},
   "outputs": [],
   "source": []
  }
 ],
 "metadata": {
  "kernelspec": {
   "display_name": "Python 3 (ipykernel)",
   "language": "python",
   "name": "python3"
  },
  "language_info": {
   "codemirror_mode": {
    "name": "ipython",
    "version": 3
   },
   "file_extension": ".py",
   "mimetype": "text/x-python",
   "name": "python",
   "nbconvert_exporter": "python",
   "pygments_lexer": "ipython3",
   "version": "3.11.5"
  }
 },
 "nbformat": 4,
 "nbformat_minor": 5
}
